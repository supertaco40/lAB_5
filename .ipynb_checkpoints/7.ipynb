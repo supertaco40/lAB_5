{
 "cells": [
  {
   "attachments": {},
   "cell_type": "markdown",
   "id": "516d897f",
   "metadata": {},
   "source": [
    "\n",
    "# Лабораторная работа \n",
    "\n",
    "## Покотило Дмитрий ПИН-201\n"
   ]
  },
  {
   "cell_type": "markdown",
   "id": "c713098e",
   "metadata": {},
   "source": [
    "Первые 12 строк таблицы"
   ]
  },
  {
   "cell_type": "code",
   "execution_count": 1,
   "id": "640f576f",
   "metadata": {
    "scrolled": true
   },
   "outputs": [
    {
     "name": "stdout",
     "output_type": "stream",
     "text": [
      "    order_id  quantity                              item_name  \\\n",
      "0          1         1           Chips and Fresh Tomato Salsa   \n",
      "1          1         1                                   Izze   \n",
      "2          1         1                       Nantucket Nectar   \n",
      "3          1         1  Chips and Tomatillo-Green Chili Salsa   \n",
      "4          2         2                           Chicken Bowl   \n",
      "5          3         1                           Chicken Bowl   \n",
      "6          3         1                          Side of Chips   \n",
      "7          4         1                          Steak Burrito   \n",
      "8          4         1                       Steak Soft Tacos   \n",
      "9          5         1                          Steak Burrito   \n",
      "10         5         1                    Chips and Guacamole   \n",
      "11         6         1                   Chicken Crispy Tacos   \n",
      "\n",
      "                                   choice_description item_price  \n",
      "0                                                 NaN     $2.39   \n",
      "1                                        [Clementine]     $3.39   \n",
      "2                                             [Apple]     $3.39   \n",
      "3                                                 NaN     $2.39   \n",
      "4   [Tomatillo-Red Chili Salsa (Hot), [Black Beans...    $16.98   \n",
      "5   [Fresh Tomato Salsa (Mild), [Rice, Cheese, Sou...    $10.98   \n",
      "6                                                 NaN     $1.69   \n",
      "7   [Tomatillo Red Chili Salsa, [Fajita Vegetables...    $11.75   \n",
      "8   [Tomatillo Green Chili Salsa, [Pinto Beans, Ch...     $9.25   \n",
      "9   [Fresh Tomato Salsa, [Rice, Black Beans, Pinto...     $9.25   \n",
      "10                                                NaN     $4.45   \n",
      "11  [Roasted Chili Corn Salsa, [Fajita Vegetables,...     $8.75   \n"
     ]
    }
   ],
   "source": [
    "import pandas as pd\n",
    "import numpy as np\n",
    "df = pd\n",
    "df = pd.read_table(filepath_or_buffer = \"cafe.tsv\")\n",
    "print(df.iloc[0:12])"
   ]
  },
  {
   "cell_type": "markdown",
   "id": "0d330bcf",
   "metadata": {},
   "source": [
    "сколько строк и столбцов в наборе данных"
   ]
  },
  {
   "cell_type": "code",
   "execution_count": 2,
   "id": "511e70dd",
   "metadata": {},
   "outputs": [
    {
     "name": "stdout",
     "output_type": "stream",
     "text": [
      "Строк:  4622 Столбцов:  5\n"
     ]
    }
   ],
   "source": [
    "print(\"Строк: \", df.shape[0], \"Столбцов: \", df.shape[1])"
   ]
  },
  {
   "cell_type": "markdown",
   "id": "f2771053",
   "metadata": {},
   "source": [
    "Выведите имена всех столбцов\n"
   ]
  },
  {
   "cell_type": "code",
   "execution_count": 3,
   "id": "14363741",
   "metadata": {},
   "outputs": [
    {
     "name": "stdout",
     "output_type": "stream",
     "text": [
      "order_id\n",
      "quantity\n",
      "item_name\n",
      "choice_description\n",
      "item_price\n"
     ]
    }
   ],
   "source": [
    "for column in df.columns:\n",
    "    print(column)"
   ]
  },
  {
   "cell_type": "markdown",
   "id": "432fdb68",
   "metadata": {},
   "source": [
    " Что является индексом набора данных?\n",
    "Сколько уникальных товаров упоминается в наборе данных?"
   ]
  },
  {
   "cell_type": "code",
   "execution_count": 4,
   "id": "71d38488",
   "metadata": {},
   "outputs": [
    {
     "name": "stdout",
     "output_type": "stream",
     "text": [
      "50\n"
     ]
    }
   ],
   "source": [
    "d = {}\n",
    "count = 0\n",
    "for i in df['item_name']:\n",
    "    if (i not in d):\n",
    "        d[i] = 0\n",
    "        count+=1\n",
    "print(count)"
   ]
  },
  {
   "cell_type": "markdown",
   "id": "0a2904d3",
   "metadata": {},
   "source": [
    "    Определите количество проданных товаров каждого наименования,\n",
    "    отсортируйте по убыванию и найдите пять товаров, пользующихся\n",
    "    наибольшим спросом."
   ]
  },
  {
   "cell_type": "code",
   "execution_count": 5,
   "id": "6aeafeec",
   "metadata": {},
   "outputs": [
    {
     "name": "stdout",
     "output_type": "stream",
     "text": [
      "{'Chips and Fresh Tomato Salsa': 130, 'Izze': 20, 'Nantucket Nectar': 29, 'Chips and Tomatillo-Green Chili Salsa': 33, 'Chicken Bowl': 761, 'Side of Chips': 110, 'Steak Burrito': 386, 'Steak Soft Tacos': 56, 'Chips and Guacamole': 506, 'Chicken Crispy Tacos': 50, 'Chicken Soft Tacos': 120, 'Chicken Burrito': 591, 'Canned Soda': 126, 'Barbacoa Burrito': 91, 'Carnitas Burrito': 60, 'Carnitas Bowl': 71, 'Bottled Water': 211, 'Chips and Tomatillo Green Chili Salsa': 45, 'Barbacoa Bowl': 66, 'Chips': 230, 'Chicken Salad Bowl': 123, 'Steak Bowl': 221, 'Barbacoa Soft Tacos': 25, 'Veggie Burrito': 97, 'Veggie Bowl': 87, 'Steak Crispy Tacos': 36, 'Chips and Tomatillo Red Chili Salsa': 50, 'Barbacoa Crispy Tacos': 12, 'Veggie Salad Bowl': 18, 'Chips and Roasted Chili-Corn Salsa': 18, 'Chips and Roasted Chili Corn Salsa': 23, 'Carnitas Soft Tacos': 40, 'Chicken Salad': 9, 'Canned Soft Drink': 351, 'Steak Salad Bowl': 31, '6 Pack Soft Drink': 55, 'Chips and Tomatillo-Red Chili Salsa': 25, 'Bowl': 4, 'Burrito': 6, 'Crispy Tacos': 2, 'Carnitas Crispy Tacos': 8, 'Steak Salad': 4, 'Chips and Mild Fresh Tomato Salsa': 1, 'Veggie Soft Tacos': 8, 'Carnitas Salad Bowl': 6, 'Barbacoa Salad Bowl': 10, 'Salad': 2, 'Veggie Crispy Tacos': 1, 'Veggie Salad': 6, 'Carnitas Salad': 1}\n",
      "                                       quantity\n",
      "Chicken Bowl                                761\n",
      "Chicken Burrito                             591\n",
      "Chips and Guacamole                         506\n",
      "Steak Burrito                               386\n",
      "Canned Soft Drink                           351\n",
      "Chips                                       230\n",
      "Steak Bowl                                  221\n",
      "Bottled Water                               211\n",
      "Chips and Fresh Tomato Salsa                130\n",
      "Canned Soda                                 126\n",
      "Chicken Salad Bowl                          123\n",
      "Chicken Soft Tacos                          120\n",
      "Side of Chips                               110\n",
      "Veggie Burrito                               97\n",
      "Barbacoa Burrito                             91\n",
      "Veggie Bowl                                  87\n",
      "Carnitas Bowl                                71\n",
      "Barbacoa Bowl                                66\n",
      "Carnitas Burrito                             60\n",
      "Steak Soft Tacos                             56\n",
      "6 Pack Soft Drink                            55\n",
      "Chicken Crispy Tacos                         50\n",
      "Chips and Tomatillo Red Chili Salsa          50\n",
      "Chips and Tomatillo Green Chili Salsa        45\n",
      "Carnitas Soft Tacos                          40\n",
      "Steak Crispy Tacos                           36\n",
      "Chips and Tomatillo-Green Chili Salsa        33\n",
      "Steak Salad Bowl                             31\n",
      "Nantucket Nectar                             29\n",
      "Barbacoa Soft Tacos                          25\n",
      "Chips and Tomatillo-Red Chili Salsa          25\n",
      "Chips and Roasted Chili Corn Salsa           23\n",
      "Izze                                         20\n",
      "Veggie Salad Bowl                            18\n",
      "Chips and Roasted Chili-Corn Salsa           18\n",
      "Barbacoa Crispy Tacos                        12\n",
      "Barbacoa Salad Bowl                          10\n",
      "Chicken Salad                                 9\n",
      "Veggie Soft Tacos                             8\n",
      "Carnitas Crispy Tacos                         8\n",
      "Veggie Salad                                  6\n",
      "Carnitas Salad Bowl                           6\n",
      "Burrito                                       6\n",
      "Steak Salad                                   4\n",
      "Bowl                                          4\n",
      "Crispy Tacos                                  2\n",
      "Salad                                         2\n",
      "Chips and Mild Fresh Tomato Salsa             1\n",
      "Veggie Crispy Tacos                           1\n",
      "Carnitas Salad                                1\n",
      "                     quantity\n",
      "Chicken Bowl              761\n",
      "Chicken Burrito           591\n",
      "Chips and Guacamole       506\n",
      "Steak Burrito             386\n",
      "Canned Soft Drink         351\n"
     ]
    }
   ],
   "source": [
    "for i in range(len(df)):\n",
    "    d[df['item_name'][i]] += df['quantity'][i]\n",
    "print(d)\n",
    "\n",
    "d_df = pd.DataFrame.from_dict(data=d, orient='index')\n",
    "d_df.columns = ['quantity']\n",
    "d_df = d_df.sort_values(by='quantity', ascending=False)\n",
    "print(d_df)\n",
    "max_values = d_df.nlargest(5, 'quantity')\n",
    "print(max_values)"
   ]
  },
  {
   "cell_type": "markdown",
   "id": "b248aed8",
   "metadata": {},
   "source": [
    "Какие из описаний choice_description упоминаются в заказах чаще\n",
    "всего?"
   ]
  },
  {
   "cell_type": "code",
   "execution_count": 6,
   "id": "ae222e72",
   "metadata": {},
   "outputs": [
    {
     "name": "stdout",
     "output_type": "stream",
     "text": [
      " Cheese\n",
      "1887\n"
     ]
    }
   ],
   "source": [
    "d2 = {}\n",
    "def get_key(d, value):\n",
    "    for k, v in d.items():\n",
    "        if v == value:\n",
    "            return k\n",
    "\n",
    "for i in range(len(df)):\n",
    "    if (pd.notnull(df['choice_description'][i]) == True):\n",
    "        a = df['choice_description'][i].split(\",\")\n",
    "        #print(a)\n",
    "        for desc in a:\n",
    "            d2[desc] = d2.get(desc, 0) + 1\n",
    "max_count = max(d2.values()) \n",
    "print(get_key(d2, max_count))\n",
    "print(max_count)"
   ]
  },
  {
   "cell_type": "markdown",
   "id": "0e4f1ec4",
   "metadata": {},
   "source": [
    "Каково общее количество купленных товаров?"
   ]
  },
  {
   "cell_type": "code",
   "execution_count": 7,
   "id": "f10c8803",
   "metadata": {},
   "outputs": [
    {
     "name": "stdout",
     "output_type": "stream",
     "text": [
      "5803\n"
     ]
    }
   ],
   "source": [
    "d3 = {}\n",
    "total = 0\n",
    "for i in range(len(df)):\n",
    "    a = df['item_name'][i].split(\"and\")\n",
    "    total += len(a)*df['quantity'][i]\n",
    "print(total)"
   ]
  },
  {
   "cell_type": "markdown",
   "id": "44d739a1",
   "metadata": {},
   "source": [
    "Сколько всего заказов содержит набор данных?"
   ]
  },
  {
   "cell_type": "code",
   "execution_count": 8,
   "id": "7b1fc871",
   "metadata": {},
   "outputs": [
    {
     "name": "stdout",
     "output_type": "stream",
     "text": [
      "1834\n"
     ]
    }
   ],
   "source": [
    "print(max(df['order_id']))"
   ]
  },
  {
   "cell_type": "markdown",
   "id": "bf363d35",
   "metadata": {},
   "source": [
    "Преобразуйте значения Item_Price в числа с плавающей запятой"
   ]
  },
  {
   "cell_type": "code",
   "execution_count": 12,
   "id": "ddbeb8c5",
   "metadata": {},
   "outputs": [
    {
     "data": {
      "text/plain": [
       "0        2.39\n",
       "1        3.39\n",
       "2        3.39\n",
       "3        2.39\n",
       "4       16.98\n",
       "        ...  \n",
       "4617    11.75\n",
       "4618    11.75\n",
       "4619    11.25\n",
       "4620     8.75\n",
       "4621     8.75\n",
       "Name: item_price, Length: 4622, dtype: float64"
      ]
     },
     "execution_count": 12,
     "metadata": {},
     "output_type": "execute_result"
    }
   ],
   "source": [
    "#data = df\n",
    "#a = 0\n",
    "#for i in range(len(df)):\n",
    "#    a = df['item_price'][i].replace('$','')\n",
    "#    data['item_price'][i] = float(a)\n",
    "#print(data)\n",
    "#print(float(df['item_price'].replace('$','')))\n",
    "pd.Series(df['item_price']).astype('float')\n"
   ]
  },
  {
   "cell_type": "markdown",
   "id": "2538921a",
   "metadata": {},
   "source": [
    "Какова средняя цена заказа?"
   ]
  },
  {
   "cell_type": "code",
   "execution_count": 13,
   "id": "51e99d66",
   "metadata": {},
   "outputs": [
    {
     "name": "stdout",
     "output_type": "stream",
     "text": [
      "7.464335785374297\n"
     ]
    }
   ],
   "source": [
    "from statistics import mean\n",
    "print(mean(df['item_price']))"
   ]
  },
  {
   "cell_type": "code",
   "execution_count": null,
   "id": "22cf0457",
   "metadata": {},
   "outputs": [],
   "source": []
  }
 ],
 "metadata": {
  "kernelspec": {
   "display_name": "Python 3 (ipykernel)",
   "language": "python",
   "name": "python3"
  },
  "language_info": {
   "codemirror_mode": {
    "name": "ipython",
    "version": 3
   },
   "file_extension": ".py",
   "mimetype": "text/x-python",
   "name": "python",
   "nbconvert_exporter": "python",
   "pygments_lexer": "ipython3",
   "version": "3.9.13"
  }
 },
 "nbformat": 4,
 "nbformat_minor": 5
}
