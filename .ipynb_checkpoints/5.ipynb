{
 "cells": [
  {
   "cell_type": "markdown",
   "id": "deb6c894",
   "metadata": {},
   "source": [
    "#      Необходимо подключить файл, скачать оттуда данные в свой ноутбук Jupyter, поместить данные в объект DataFrame и средствами библиотеки получить ответы на все перечисленные в задании вопросы."
   ]
  },
  {
   "cell_type": "markdown",
   "id": "e750894a",
   "metadata": {},
   "source": [
    "    Импортируйте необходимые библиотеки\n",
    "    Импортируйте набор данных из файла student-mat.csv и поместите его в объект DataFrame\n",
    "    Выведите 10 первых строк\n",
    "    Сколько строк и столбцов в наборе данных?"
   ]
  },
  {
   "cell_type": "code",
   "execution_count": 10,
   "id": "d4577f71",
   "metadata": {},
   "outputs": [
    {
     "name": "stdout",
     "output_type": "stream",
     "text": [
      "  school sex  age address famsize Pstatus  Medu  Fedu      Mjob      Fjob  \\\n",
      "0     GP   F   18       U     GT3       A     4     4   at_home   teacher   \n",
      "1     GP   F   17       U     GT3       T     1     1   at_home     other   \n",
      "2     GP   F   15       U     LE3       T     1     1   at_home     other   \n",
      "3     GP   F   15       U     GT3       T     4     2    health  services   \n",
      "4     GP   F   16       U     GT3       T     3     3     other     other   \n",
      "5     GP   M   16       U     LE3       T     4     3  services     other   \n",
      "6     GP   M   16       U     LE3       T     2     2     other     other   \n",
      "7     GP   F   17       U     GT3       A     4     4     other   teacher   \n",
      "8     GP   M   15       U     LE3       A     3     2  services     other   \n",
      "9     GP   M   15       U     GT3       T     3     4     other     other   \n",
      "\n",
      "   ... famrel freetime  goout  Dalc  Walc health absences  G1  G2  G3  \n",
      "0  ...      4        3      4     1     1      3        6   5   6   6  \n",
      "1  ...      5        3      3     1     1      3        4   5   5   6  \n",
      "2  ...      4        3      2     2     3      3       10   7   8  10  \n",
      "3  ...      3        2      2     1     1      5        2  15  14  15  \n",
      "4  ...      4        3      2     1     2      5        4   6  10  10  \n",
      "5  ...      5        4      2     1     2      5       10  15  15  15  \n",
      "6  ...      4        4      4     1     1      3        0  12  12  11  \n",
      "7  ...      4        1      4     1     1      1        6   6   5   6  \n",
      "8  ...      4        2      2     1     1      1        0  16  18  19  \n",
      "9  ...      5        5      1     1     1      5        0  14  15  15  \n",
      "\n",
      "[10 rows x 33 columns]\n"
     ]
    }
   ],
   "source": [
    "import pandas as pd\n",
    "\n",
    "df = pd.read_csv(filepath_or_buffer = \"student-mat.csv\")\n",
    "print(df.iloc[0:10])"
   ]
  },
  {
   "cell_type": "markdown",
   "id": "e9bb07bb",
   "metadata": {},
   "source": [
    "Выведите имена всех столбцов"
   ]
  },
  {
   "cell_type": "code",
   "execution_count": 14,
   "id": "ef109ce5",
   "metadata": {},
   "outputs": [
    {
     "name": "stdout",
     "output_type": "stream",
     "text": [
      "school\n",
      "sex\n",
      "age\n",
      "address\n",
      "famsize\n",
      "Pstatus\n",
      "Medu\n",
      "Fedu\n",
      "Mjob\n",
      "Fjob\n",
      "reason\n",
      "guardian\n",
      "traveltime\n",
      "studytime\n",
      "failures\n",
      "schoolsup\n",
      "famsup\n",
      "paid\n",
      "activities\n",
      "nursery\n",
      "higher\n",
      "internet\n",
      "romantic\n",
      "famrel\n",
      "freetime\n",
      "goout\n",
      "Dalc\n",
      "Walc\n",
      "health\n",
      "absences\n",
      "G1\n",
      "G2\n",
      "G3\n"
     ]
    }
   ],
   "source": [
    "cols = df.columns \n",
    "for i in range(len(cols)):\n",
    "    print(cols[i])"
   ]
  },
  {
   "cell_type": "markdown",
   "id": "eae88338",
   "metadata": {},
   "source": [
    "Создайте новый датафрейм fam, выполнив срез от столбца school до\n",
    "столбца famrel и удалив все столбцы от traveltime до romantic\n",
    "включительно (оставив только характеристики семьи)"
   ]
  },
  {
   "cell_type": "code",
   "execution_count": 31,
   "id": "e986d6d4",
   "metadata": {},
   "outputs": [
    {
     "name": "stdout",
     "output_type": "stream",
     "text": [
      "    school sex  age address famsize Pstatus  Medu  Fedu      Mjob      Fjob  \\\n",
      "0       GP   F   18       U     GT3       A     4     4   at_home   teacher   \n",
      "1       GP   F   17       U     GT3       T     1     1   at_home     other   \n",
      "2       GP   F   15       U     LE3       T     1     1   at_home     other   \n",
      "3       GP   F   15       U     GT3       T     4     2    health  services   \n",
      "4       GP   F   16       U     GT3       T     3     3     other     other   \n",
      "..     ...  ..  ...     ...     ...     ...   ...   ...       ...       ...   \n",
      "390     MS   M   20       U     LE3       A     2     2  services  services   \n",
      "391     MS   M   17       U     LE3       T     3     1  services  services   \n",
      "392     MS   M   21       R     GT3       T     1     1     other     other   \n",
      "393     MS   M   18       R     LE3       T     3     2  services     other   \n",
      "394     MS   M   19       U     LE3       T     1     1     other   at_home   \n",
      "\n",
      "     reason guardian  famrel  \n",
      "0    course   mother       4  \n",
      "1    course   father       5  \n",
      "2     other   mother       4  \n",
      "3      home   mother       3  \n",
      "4      home   father       4  \n",
      "..      ...      ...     ...  \n",
      "390  course    other       5  \n",
      "391  course   mother       2  \n",
      "392  course    other       5  \n",
      "393  course   mother       4  \n",
      "394  course   father       3  \n",
      "\n",
      "[395 rows x 13 columns]\n"
     ]
    }
   ],
   "source": [
    "fam = df.loc[:, 'school' : 'famrel']\n",
    "fam = fam.drop(columns=fam.loc[:, 'traveltime':'romantic']) \n",
    "print(fam)"
   ]
  },
  {
   "cell_type": "markdown",
   "id": "5c689d3f",
   "metadata": {},
   "source": [
    "Определите процент городских и сельских студентов в каждой школе"
   ]
  },
  {
   "cell_type": "code",
   "execution_count": 41,
   "id": "b3eb9691",
   "metadata": {},
   "outputs": [
    {
     "name": "stdout",
     "output_type": "stream",
     "text": [
      "Gabriel Pereira: Городских: 81.9484240687679, Сельских: 18.051575931232094\n",
      "Mousinho da Silveira: Городских: 45.65217391304348, Сельских: 54.34782608695652\n"
     ]
    }
   ],
   "source": [
    "gp_df = fam[fam['school'] == 'GP']\n",
    "gpU_df = gp_df[gp_df['address'] == 'U']\n",
    "\n",
    "print(f\"Gabriel Pereira: Городских: {len(gpU_df)/len(gp_df)*100}, Сельских: {100 - (len(gpU_df)/len(gp_df)*100)}\")\n",
    "\n",
    "ms_df = fam[fam['school'] == 'MS']\n",
    "msU_df = ms_df[ms_df['address'] == 'U']\n",
    "\n",
    "print(f\"Mousinho da Silveira: Городских: {len(msU_df)/len(ms_df)*100}, Сельских: {100 - (len(msU_df)/len(ms_df)*100)}\")"
   ]
  },
  {
   "cell_type": "markdown",
   "id": "3cce9d3a",
   "metadata": {},
   "source": [
    "У какого процента студентов (по школам) и мать и отец имеют высшее\n",
    "образование?"
   ]
  },
  {
   "cell_type": "code",
   "execution_count": 47,
   "id": "c8dc8340",
   "metadata": {},
   "outputs": [
    {
     "name": "stdout",
     "output_type": "stream",
     "text": [
      "Gabriel Pereira: Процент родителей с высшим образованием: 17.765042979942695\n",
      "Gabriel Pereira: Процент родителей с высшим образованием: 17.391304347826086\n"
     ]
    }
   ],
   "source": [
    "gpMedu = gp_df[gp_df['Medu'] == 4]\n",
    "gpEdu = gpMedu[gpMedu['Fedu'] == 4]\n",
    "print(f\"Gabriel Pereira: Процент родителей с высшим образованием: {len(gpEdu)/len(gp_df)*100}\")\n",
    "\n",
    "msMedu = ms_df[ms_df['Medu'] == 4]\n",
    "msEdu = msMedu[msMedu['Fedu'] == 4]\n",
    "print(f\"Mousinho da Silveira: Процент родителей с высшим образованием: {len(msEdu)/len(ms_df)*100}\")"
   ]
  },
  {
   "cell_type": "markdown",
   "id": "6c6cd8a1",
   "metadata": {},
   "source": [
    "У какого процента студентов (по школам) и мать и отец вообще не\n",
    "имеют образования?"
   ]
  },
  {
   "cell_type": "code",
   "execution_count": 48,
   "id": "16a85f6d",
   "metadata": {},
   "outputs": [
    {
     "name": "stdout",
     "output_type": "stream",
     "text": [
      "Gabriel Pereira: Процент родителей с высшим образованием: 0.0\n",
      "Mousinho da Silveira: Процент родителей с высшим образованием: 0.0\n"
     ]
    }
   ],
   "source": [
    "gpMNedu = gp_df[gp_df['Medu'] == 0]\n",
    "gpNedu = gpMNedu[gpMNedu['Fedu'] == 0]\n",
    "print(f\"Gabriel Pereira: Процент родителей без образования: {len(gpNedu)/len(gp_df)*100}\")\n",
    "\n",
    "msMNedu = ms_df[ms_df['Medu'] == 0]\n",
    "msNedu = msMNedu[msMNedu['Fedu'] == 0]\n",
    "print(f\"Mousinho da Silveira: Процент родителей без образования: {len(msNedu)/len(ms_df)*100}\")"
   ]
  },
  {
   "cell_type": "markdown",
   "id": "b63d6e8b",
   "metadata": {},
   "source": [
    "Какой процент родителей, имеющих высшее образование, проживает\n",
    "совместно?"
   ]
  },
  {
   "cell_type": "code",
   "execution_count": 55,
   "id": "7696cee5",
   "metadata": {},
   "outputs": [
    {
     "name": "stdout",
     "output_type": "stream",
     "text": [
      "Процент родителей, имеющих высшее образование и проживающих совместно: 87.14285714285714\n"
     ]
    }
   ],
   "source": [
    "Edu = pd.concat([gpEdu, msEdu])\n",
    "EduT = Edu[Edu['Pstatus'] == 'T']\n",
    "print(f\"Процент родителей, имеющих высшее образование и проживающих совместно: {len(EduT)/len(Edu)*100}\")\n",
    "\n"
   ]
  },
  {
   "cell_type": "markdown",
   "id": "c7f55695",
   "metadata": {},
   "source": [
    "Определите процент семей, в которых один из родителей имеет высшее\n",
    "образование, а другой не имеет, но проживают совместно"
   ]
  },
  {
   "cell_type": "code",
   "execution_count": 62,
   "id": "b38f047f",
   "metadata": {},
   "outputs": [
    {
     "name": "stdout",
     "output_type": "stream",
     "text": [
      "Процент семей, в которых один из родителей имеет высшее образование, а другой не имеет, но проживают совместно: 21.1864406779661\n"
     ]
    }
   ],
   "source": [
    "famT = fam[fam['Pstatus'] == 'T']\n",
    "\n",
    "famT_Medu = famT[famT['Medu'] == 4]\n",
    "famT_MeduNFedu = famT_Medu[famT_Medu['Fedu'] != 4]\n",
    "\n",
    "famT_Fedu = famT[famT['Fedu'] == 4]\n",
    "famT_FeduNMedu = famT_Fedu[famT_Fedu['Medu'] != 4]\n",
    "\n",
    "famT_Edu = pd.concat([famT_MeduNFedu, famT_FeduNMedu])\n",
    "print(f\"Процент семей, в которых один из родителей имеет высшее образование, а другой не имеет, но проживают совместно: {len(famT_Edu)/len(famT)*100}\")"
   ]
  },
  {
   "cell_type": "markdown",
   "id": "62bec8c6",
   "metadata": {},
   "source": [
    "Какое качество семейных отношений в этих семьях?"
   ]
  },
  {
   "cell_type": "code",
   "execution_count": 71,
   "id": "d86f80da",
   "metadata": {},
   "outputs": [
    {
     "name": "stdout",
     "output_type": "stream",
     "text": [
      "3.933333333333333\n"
     ]
    }
   ],
   "source": [
    "famrel = famT_Edu['famrel'].values.tolist()\n",
    "\n",
    "print(sum(famrel)/len(famrel))"
   ]
  },
  {
   "cell_type": "markdown",
   "id": "0ceac9f7",
   "metadata": {},
   "source": [
    "У скольких студентов работа одного или обоих родителей связана с\n",
    "гражданскими услугами (административными или полицейскими)?"
   ]
  },
  {
   "cell_type": "code",
   "execution_count": 78,
   "id": "36ded9fe",
   "metadata": {},
   "outputs": [
    {
     "name": "stdout",
     "output_type": "stream",
     "text": [
      "Процент студентов, у которых рабата одного или обоих родителей связана с гражданскими услугами: 43.291139240506325\n"
     ]
    }
   ],
   "source": [
    "fam_service = fam[(fam['Mjob'] == 'services') | (fam['Fjob'] == 'services')]\n",
    "print(f\"Процент студентов, у которых рабата одного или обоих родителей связана с гражданскими услугами: {len(fam_service)/len(fam)*100}\")"
   ]
  },
  {
   "cell_type": "code",
   "execution_count": null,
   "id": "8da34155",
   "metadata": {},
   "outputs": [],
   "source": []
  }
 ],
 "metadata": {
  "kernelspec": {
   "display_name": "Python 3 (ipykernel)",
   "language": "python",
   "name": "python3"
  },
  "language_info": {
   "codemirror_mode": {
    "name": "ipython",
    "version": 3
   },
   "file_extension": ".py",
   "mimetype": "text/x-python",
   "name": "python",
   "nbconvert_exporter": "python",
   "pygments_lexer": "ipython3",
   "version": "3.9.13"
  }
 },
 "nbformat": 4,
 "nbformat_minor": 5
}
